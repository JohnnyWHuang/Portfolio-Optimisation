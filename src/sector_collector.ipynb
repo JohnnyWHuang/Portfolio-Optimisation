{
 "cells": [
  {
   "cell_type": "code",
   "execution_count": 1,
   "metadata": {},
   "outputs": [],
   "source": [
    "import data, calculations\n",
    "\n",
    "import requests, urllib\n",
    "import json\n",
    "\n",
    "import pandas as pd\n",
    "import numpy as np\n",
    "import matplotlib.pyplot as plt\n",
    "\n",
    "from pypfopt import CLA, plotting\n",
    "from pypfopt.expected_returns import returns_from_prices, log_returns_from_prices, mean_historical_return\n",
    "from pypfopt.risk_models import CovarianceShrinkage\n",
    "from pypfopt.efficient_frontier import EfficientFrontier\n",
    "from IPython.core.interactiveshell import InteractiveShell\n",
    "from IPython.display import display_html\n",
    "\n",
    "InteractiveShell.ast_node_interactivity = \"all\"\n",
    "pd.options.display.max_columns = None\n",
    "pd.options.mode.chained_assignment = None  # default='warn'\n",
    "\n",
    "%load_ext autoreload\n",
    "%autoreload 2"
   ]
  },
  {
   "cell_type": "markdown",
   "metadata": {},
   "source": [
    "## Wikipedia Scraper\n",
    "We can scrape most of the sectors off wikipedia. "
   ]
  },
  {
   "cell_type": "code",
   "execution_count": 2,
   "metadata": {},
   "outputs": [],
   "source": [
    "def join_smp500_together(urls: list, keep_dataframe: pd.DataFrame):\n",
    "    smp500_dataframes = []\n",
    "    \n",
    "    for index, url in enumerate(urls):\n",
    "        dataframe = pd.read_html(url)[2] if index != 0 else pd.read_html(url)[0]\n",
    "        \n",
    "        # Handle pre and post 2018 symbol column name\n",
    "        if \"Ticker symbol\" in dataframe.columns:\n",
    "            dataframe.rename(columns={\"Ticker symbol\": \"Symbol\"}, inplace=True)\n",
    "            \n",
    "        dataframe[\"Symbol\"] = dataframe[\"Symbol\"].astype(str) + \" US Equity\"\n",
    "        dataframe = dataframe[[\"Symbol\", \"GICS Sector\"]]\n",
    "            \n",
    "        # Append US Equity symbols to each entry\n",
    "        smp500_dataframes.append(dataframe)\n",
    "        \n",
    "    smp500_dataframe = pd.concat(smp500_dataframes).drop_duplicates().set_index(\"Symbol\")[[\"GICS Sector\"]]\n",
    "    return smp500_dataframe.loc[portfolio.columns.intersection(smp500_dataframe.index)]"
   ]
  },
  {
   "cell_type": "code",
   "execution_count": 3,
   "metadata": {},
   "outputs": [],
   "source": [
    "portfolio = data.import_range(date_from=\"2015\")"
   ]
  },
  {
   "cell_type": "code",
   "execution_count": 4,
   "metadata": {
    "scrolled": true
   },
   "outputs": [],
   "source": [
    "smp500 = join_smp500_together([\n",
    "    \"https://en.wikipedia.org/wiki/List_of_S%26P_500_companies\",\n",
    "    \"https://web.archive.org/web/20190802035125/https://en.wikipedia.org/wiki/List_of_S%26P_500_companies\",\n",
    "    \"https://web.archive.org/web/20190427082605/https://en.wikipedia.org/wiki/List_of_S%26P_500_companies\",\n",
    "    \"https://web.archive.org/web/20181008215157/https://en.wikipedia.org/wiki/List_of_S%26P_500_companies\",\n",
    "    \"https://web.archive.org/web/20170820205408/https://en.wikipedia.org/wiki/List_of_S%26P_500_companies\",\n",
    "    \"https://web.archive.org/web/20160118103416/https://en.wikipedia.org/wiki/List_of_S%26P_500_companies\",\n",
    "    \"https://web.archive.org/web/20150818030513/https://en.wikipedia.org/wiki/List_of_S%26P_500_companies\",\n",
    "    \"https://web.archive.org/web/20141124110032/http://en.wikipedia.org/wiki/List_of_S%26P_500_companies\"\n",
    "], portfolio)"
   ]
  },
  {
   "cell_type": "code",
   "execution_count": 5,
   "metadata": {},
   "outputs": [
    {
     "data": {
      "text/html": [
       "<div>\n",
       "<style scoped>\n",
       "    .dataframe tbody tr th:only-of-type {\n",
       "        vertical-align: middle;\n",
       "    }\n",
       "\n",
       "    .dataframe tbody tr th {\n",
       "        vertical-align: top;\n",
       "    }\n",
       "\n",
       "    .dataframe thead th {\n",
       "        text-align: right;\n",
       "    }\n",
       "</style>\n",
       "<table border=\"1\" class=\"dataframe\">\n",
       "  <thead>\n",
       "    <tr style=\"text-align: right;\">\n",
       "      <th></th>\n",
       "      <th>GICS Sector</th>\n",
       "    </tr>\n",
       "    <tr>\n",
       "      <th>Symbol</th>\n",
       "      <th></th>\n",
       "    </tr>\n",
       "  </thead>\n",
       "  <tbody>\n",
       "    <tr>\n",
       "      <th>A US Equity</th>\n",
       "      <td>Health Care</td>\n",
       "    </tr>\n",
       "    <tr>\n",
       "      <th>AA US Equity</th>\n",
       "      <td>Materials</td>\n",
       "    </tr>\n",
       "    <tr>\n",
       "      <th>AAL US Equity</th>\n",
       "      <td>Industrials</td>\n",
       "    </tr>\n",
       "    <tr>\n",
       "      <th>AAP US Equity</th>\n",
       "      <td>Consumer Discretionary</td>\n",
       "    </tr>\n",
       "    <tr>\n",
       "      <th>AAPL US Equity</th>\n",
       "      <td>Information Technology</td>\n",
       "    </tr>\n",
       "    <tr>\n",
       "      <th>...</th>\n",
       "      <td>...</td>\n",
       "    </tr>\n",
       "    <tr>\n",
       "      <th>XYL US Equity</th>\n",
       "      <td>Industrials</td>\n",
       "    </tr>\n",
       "    <tr>\n",
       "      <th>YUM US Equity</th>\n",
       "      <td>Consumer Discretionary</td>\n",
       "    </tr>\n",
       "    <tr>\n",
       "      <th>ZBH US Equity</th>\n",
       "      <td>Health Care</td>\n",
       "    </tr>\n",
       "    <tr>\n",
       "      <th>ZION US Equity</th>\n",
       "      <td>Financials</td>\n",
       "    </tr>\n",
       "    <tr>\n",
       "      <th>ZTS US Equity</th>\n",
       "      <td>Health Care</td>\n",
       "    </tr>\n",
       "  </tbody>\n",
       "</table>\n",
       "<p>619 rows × 1 columns</p>\n",
       "</div>"
      ],
      "text/plain": [
       "                           GICS Sector\n",
       "Symbol                                \n",
       "A US Equity                Health Care\n",
       "AA US Equity                 Materials\n",
       "AAL US Equity              Industrials\n",
       "AAP US Equity   Consumer Discretionary\n",
       "AAPL US Equity  Information Technology\n",
       "...                                ...\n",
       "XYL US Equity              Industrials\n",
       "YUM US Equity   Consumer Discretionary\n",
       "ZBH US Equity              Health Care\n",
       "ZION US Equity              Financials\n",
       "ZTS US Equity              Health Care\n",
       "\n",
       "[619 rows x 1 columns]"
      ]
     },
     "execution_count": 5,
     "metadata": {},
     "output_type": "execute_result"
    }
   ],
   "source": [
    "smp500"
   ]
  },
  {
   "cell_type": "markdown",
   "metadata": {},
   "source": [
    "## Scrape Remaining Data\n",
    "Some stocks aren't listed on Wikipedia, so we need to get them elsewhere. \n",
    "\n",
    "A [medium](https://towardsdatascience.com/beat-the-stock-market-with-machine-learning-d9432ea5241e) article describes how to retreive stock data from an api, Financial Modelling Prep."
   ]
  },
  {
   "cell_type": "code",
   "execution_count": 6,
   "metadata": {},
   "outputs": [],
   "source": [
    "def get_json_data(url):\n",
    "    # Scrape data (which must be json format) from given url\n",
    "    response = urllib.request.urlopen(url)\n",
    "    dat = response.read().decode('utf-8')\n",
    "    return json.loads(dat)\n",
    "\n",
    "def find_in_json(obj, key):\n",
    "    # Scan the json file to find the value of the required key\n",
    "    arr = []\n",
    "\n",
    "    def extract(obj, arr, key):\n",
    "        # Recursively search for values of key in json file.\n",
    "        if isinstance(obj, dict):\n",
    "            for k, v in obj.items():\n",
    "                if isinstance(v, (dict, list)):\n",
    "                    extract(v, arr, key)\n",
    "                elif k == key:\n",
    "                    arr.append(v)\n",
    "        elif isinstance(obj, list):\n",
    "            for item in obj:\n",
    "                extract(item, arr, key)\n",
    "        return arr\n",
    "\n",
    "    results = extract(obj, arr, key)\n",
    "    return results\n",
    "\n",
    "def get_sector(stock):\n",
    "    a = get_json_data(f\"https://financialmodelingprep.com/api/v3/profile/{stock}?apikey=dac00d35299c4b74d8ab7ed3a1d946b0\")\n",
    "    return find_in_json(a, \"sector\")"
   ]
  },
  {
   "cell_type": "markdown",
   "metadata": {},
   "source": [
    "Remove suffix \"US Equity\" from ticker strings to match criteria."
   ]
  },
  {
   "cell_type": "code",
   "execution_count": 7,
   "metadata": {},
   "outputs": [],
   "source": [
    "diff = list(set(portfolio.columns) - set(smp500.index))"
   ]
  },
  {
   "cell_type": "code",
   "execution_count": 8,
   "metadata": {},
   "outputs": [],
   "source": [
    "remaining_tickers = [i.replace('US Equity', '').replace('/', '.').strip() for i in diff]"
   ]
  },
  {
   "cell_type": "code",
   "execution_count": 9,
   "metadata": {},
   "outputs": [
    {
     "data": {
      "text/plain": [
       "['GHC', 'JBL', 'CR', 'DDS', 'UN', 'SNV', 'PTC', 'DLX', 'NC', 'BGG']"
      ]
     },
     "execution_count": 9,
     "metadata": {},
     "output_type": "execute_result"
    }
   ],
   "source": [
    "remaining_tickers[:10]"
   ]
  },
  {
   "cell_type": "markdown",
   "metadata": {},
   "source": [
    "Find all remaining sectors and create a list"
   ]
  },
  {
   "cell_type": "code",
   "execution_count": 10,
   "metadata": {},
   "outputs": [],
   "source": [
    "remaining_sectors = [get_sector(ticker)[0] for ticker in remaining_tickers]"
   ]
  },
  {
   "cell_type": "code",
   "execution_count": 11,
   "metadata": {},
   "outputs": [
    {
     "data": {
      "text/plain": [
       "['Consumer Defensive',\n",
       " 'Technology',\n",
       " 'Industrials',\n",
       " 'Consumer Cyclical',\n",
       " 'Consumer Defensive',\n",
       " 'Financial Services',\n",
       " 'Technology',\n",
       " 'Communication Services',\n",
       " 'Energy',\n",
       " 'Industrials',\n",
       " 'Financial Services',\n",
       " 'Consumer Cyclical',\n",
       " 'Basic Materials',\n",
       " 'Consumer Cyclical',\n",
       " 'Industrials',\n",
       " 'Consumer Cyclical',\n",
       " 'Industrials',\n",
       " 'Basic Materials',\n",
       " 'Financial',\n",
       " 'Industrials',\n",
       " 'Basic Materials',\n",
       " 'Consumer Cyclical',\n",
       " 'Healthcare',\n",
       " 'Consumer Cyclical',\n",
       " 'Consumer Defensive',\n",
       " 'Industrials',\n",
       " 'Consumer Cyclical',\n",
       " 'Industrials',\n",
       " 'Industrials',\n",
       " 'Consumer Defensive',\n",
       " 'Basic Materials',\n",
       " 'Consumer Cyclical',\n",
       " 'Industrials',\n",
       " 'Consumer Cyclical',\n",
       " 'Communication Services',\n",
       " 'Consumer Cyclical',\n",
       " 'Communication Services',\n",
       " 'Basic Materials',\n",
       " 'Industrials']"
      ]
     },
     "execution_count": 11,
     "metadata": {},
     "output_type": "execute_result"
    }
   ],
   "source": [
    "remaining_sectors"
   ]
  },
  {
   "cell_type": "markdown",
   "metadata": {},
   "source": [
    "Create a list of remianing stocks which do not have an associated sector, changing '.' to '/' to reflect source data naming conventions."
   ]
  },
  {
   "cell_type": "code",
   "execution_count": 12,
   "metadata": {},
   "outputs": [],
   "source": [
    "remaining_tickers = [remaining_tickers[i].replace(\".\", \"/\") for i in range(len(remaining_tickers))]"
   ]
  },
  {
   "cell_type": "code",
   "execution_count": 13,
   "metadata": {},
   "outputs": [
    {
     "data": {
      "text/plain": [
       "['Consumer Defensive',\n",
       " 'Technology',\n",
       " 'Industrials',\n",
       " 'Consumer Cyclical',\n",
       " 'Consumer Defensive']"
      ]
     },
     "execution_count": 13,
     "metadata": {},
     "output_type": "execute_result"
    }
   ],
   "source": [
    "remaining_sectors[:5]"
   ]
  },
  {
   "cell_type": "code",
   "execution_count": 14,
   "metadata": {},
   "outputs": [],
   "source": [
    "final_sectors = pd.DataFrame({\"Symbol\": remaining_tickers, \"GICS Sector\": remaining_sectors})\n",
    "final_sectors[\"Symbol\"] = final_sectors[\"Symbol\"].astype(str) + \" US Equity\"\n",
    "final_sectors.set_index(\"Symbol\", inplace=True)"
   ]
  },
  {
   "cell_type": "code",
   "execution_count": 15,
   "metadata": {},
   "outputs": [],
   "source": [
    "smp500 = pd.concat([smp500, final_sectors])"
   ]
  },
  {
   "cell_type": "code",
   "execution_count": 16,
   "metadata": {},
   "outputs": [],
   "source": [
    "smp500 = smp500[~smp500.index.duplicated(keep='first')]"
   ]
  },
  {
   "cell_type": "code",
   "execution_count": 17,
   "metadata": {},
   "outputs": [],
   "source": [
    "smp500.sort_index(inplace=True)"
   ]
  },
  {
   "cell_type": "code",
   "execution_count": 18,
   "metadata": {
    "scrolled": true
   },
   "outputs": [
    {
     "data": {
      "text/plain": [
       "True"
      ]
     },
     "execution_count": 18,
     "metadata": {},
     "output_type": "execute_result"
    }
   ],
   "source": [
    "set(smp500.index) == set(portfolio.columns)"
   ]
  },
  {
   "cell_type": "markdown",
   "metadata": {},
   "source": [
    "## Clean Up"
   ]
  },
  {
   "cell_type": "code",
   "execution_count": 19,
   "metadata": {},
   "outputs": [
    {
     "data": {
      "text/plain": [
       "Industrials               74\n",
       "Financials                60\n",
       "Information Technology    58\n",
       "Consumer Discretionary    58\n",
       "Health Care               57\n",
       "Energy                    33\n",
       "Real Estate               30\n",
       "Consumer Staples          29\n",
       "Utilities                 26\n",
       "Materials                 22\n",
       "Communication Services    21\n",
       "Consumer Cyclical         10\n",
       "Basic Materials            5\n",
       "Consumer Defensive         4\n",
       "Financial Services         2\n",
       "Technology                 2\n",
       "Healthcare                 1\n",
       "Financial                  1\n",
       "Name: GICS Sector, dtype: int64"
      ]
     },
     "execution_count": 19,
     "metadata": {},
     "output_type": "execute_result"
    }
   ],
   "source": [
    "smp500[\"GICS Sector\"].value_counts()"
   ]
  },
  {
   "cell_type": "code",
   "execution_count": 20,
   "metadata": {},
   "outputs": [],
   "source": [
    "new_sectors = {\n",
    "    \"Financial\": \"Financials\", \"Technology\": \"Information Technology\",\n",
    "    \"Telecommunication Services\": \"Communication Services\", \"Telecommunications Services\": \"Communication Services\",\n",
    "    \"Health Care\": \"Healthcare\", \"Consumer Cyclical\": \"Consumer Discretionary\", \"Basic Materials\": \"Materials\",\n",
    "    \"Consumer Defensive\": \"Consumer Staples\", \"Financial Services\": \"Financials\"\n",
    "}\n",
    "\n",
    "sectors_mapper = lambda name: new_sectors[name] if name in new_sectors.keys() else name"
   ]
  },
  {
   "cell_type": "code",
   "execution_count": 21,
   "metadata": {},
   "outputs": [
    {
     "data": {
      "text/html": [
       "<div>\n",
       "<style scoped>\n",
       "    .dataframe tbody tr th:only-of-type {\n",
       "        vertical-align: middle;\n",
       "    }\n",
       "\n",
       "    .dataframe tbody tr th {\n",
       "        vertical-align: top;\n",
       "    }\n",
       "\n",
       "    .dataframe thead th {\n",
       "        text-align: right;\n",
       "    }\n",
       "</style>\n",
       "<table border=\"1\" class=\"dataframe\">\n",
       "  <thead>\n",
       "    <tr style=\"text-align: right;\">\n",
       "      <th></th>\n",
       "      <th>GICS Sector</th>\n",
       "    </tr>\n",
       "    <tr>\n",
       "      <th>Symbol</th>\n",
       "      <th></th>\n",
       "    </tr>\n",
       "  </thead>\n",
       "  <tbody>\n",
       "    <tr>\n",
       "      <th>A US Equity</th>\n",
       "      <td>Healthcare</td>\n",
       "    </tr>\n",
       "    <tr>\n",
       "      <th>AA US Equity</th>\n",
       "      <td>Materials</td>\n",
       "    </tr>\n",
       "    <tr>\n",
       "      <th>AAL US Equity</th>\n",
       "      <td>Industrials</td>\n",
       "    </tr>\n",
       "    <tr>\n",
       "      <th>AAP US Equity</th>\n",
       "      <td>Consumer Discretionary</td>\n",
       "    </tr>\n",
       "    <tr>\n",
       "      <th>AAPL US Equity</th>\n",
       "      <td>Information Technology</td>\n",
       "    </tr>\n",
       "    <tr>\n",
       "      <th>...</th>\n",
       "      <td>...</td>\n",
       "    </tr>\n",
       "    <tr>\n",
       "      <th>XYL US Equity</th>\n",
       "      <td>Industrials</td>\n",
       "    </tr>\n",
       "    <tr>\n",
       "      <th>YUM US Equity</th>\n",
       "      <td>Consumer Discretionary</td>\n",
       "    </tr>\n",
       "    <tr>\n",
       "      <th>ZBH US Equity</th>\n",
       "      <td>Healthcare</td>\n",
       "    </tr>\n",
       "    <tr>\n",
       "      <th>ZION US Equity</th>\n",
       "      <td>Financials</td>\n",
       "    </tr>\n",
       "    <tr>\n",
       "      <th>ZTS US Equity</th>\n",
       "      <td>Healthcare</td>\n",
       "    </tr>\n",
       "  </tbody>\n",
       "</table>\n",
       "<p>493 rows × 1 columns</p>\n",
       "</div>"
      ],
      "text/plain": [
       "                           GICS Sector\n",
       "Symbol                                \n",
       "A US Equity                 Healthcare\n",
       "AA US Equity                 Materials\n",
       "AAL US Equity              Industrials\n",
       "AAP US Equity   Consumer Discretionary\n",
       "AAPL US Equity  Information Technology\n",
       "...                                ...\n",
       "XYL US Equity              Industrials\n",
       "YUM US Equity   Consumer Discretionary\n",
       "ZBH US Equity               Healthcare\n",
       "ZION US Equity              Financials\n",
       "ZTS US Equity               Healthcare\n",
       "\n",
       "[493 rows x 1 columns]"
      ]
     },
     "execution_count": 21,
     "metadata": {},
     "output_type": "execute_result"
    }
   ],
   "source": [
    "smp500[\"GICS Sector\"] = smp500[\"GICS Sector\"].map(sectors_mapper)\n",
    "smp500"
   ]
  },
  {
   "cell_type": "code",
   "execution_count": 22,
   "metadata": {},
   "outputs": [],
   "source": [
    "smp500.to_csv(\"../sectors.csv\")"
   ]
  },
  {
   "cell_type": "code",
   "execution_count": null,
   "metadata": {},
   "outputs": [],
   "source": []
  }
 ],
 "metadata": {
  "kernelspec": {
   "display_name": "Python 3",
   "language": "python",
   "name": "python3"
  },
  "language_info": {
   "codemirror_mode": {
    "name": "ipython",
    "version": 3
   },
   "file_extension": ".py",
   "mimetype": "text/x-python",
   "name": "python",
   "nbconvert_exporter": "python",
   "pygments_lexer": "ipython3",
   "version": "3.7.6"
  }
 },
 "nbformat": 4,
 "nbformat_minor": 4
}
